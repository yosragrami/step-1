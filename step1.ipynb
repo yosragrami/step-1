{
 "cells": [
  {
   "cell_type": "code",
   "execution_count": 4,
   "id": "9607e6fd-4600-4939-9fa0-da60413c6001",
   "metadata": {},
   "outputs": [],
   "source": [
    "def remove_match_char(list1, list2):\n",
    "    for i in range(len(list1)) :\n",
    "        for j in range(len(list2)) :\n",
    "             if list1[i] == list1[j] :\n",
    "                c = list1[i]\n",
    "                list1.remove(c)\n",
    "                list2.remove(c)\n",
    "                list3 = list1 + [\"*\"] + list2\n",
    "                return [list3, True]\n",
    "\n",
    " \n",
    "            "
   ]
  },
  {
   "cell_type": "code",
   "execution_count": null,
   "id": "f1a8d366-b0bb-4af1-be67-d9681782448e",
   "metadata": {},
   "outputs": [],
   "source": []
  }
 ],
 "metadata": {
  "kernelspec": {
   "display_name": "Python 3 (ipykernel)",
   "language": "python",
   "name": "python3"
  },
  "language_info": {
   "codemirror_mode": {
    "name": "ipython",
    "version": 3
   },
   "file_extension": ".py",
   "mimetype": "text/x-python",
   "name": "python",
   "nbconvert_exporter": "python",
   "pygments_lexer": "ipython3",
   "version": "3.9.7"
  }
 },
 "nbformat": 4,
 "nbformat_minor": 5
}
